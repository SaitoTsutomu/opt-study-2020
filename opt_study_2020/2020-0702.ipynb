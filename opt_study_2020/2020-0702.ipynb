{
 "cells": [
  {
   "cell_type": "markdown",
   "metadata": {},
   "source": [
    "# 食費最適化\n",
    "https://qiita.com/Biscuit01/items/2ead59bd970f3b82cf41"
   ]
  },
  {
   "cell_type": "code",
   "execution_count": null,
   "metadata": {},
   "outputs": [],
   "source": [
    "import pandas as pd\n",
    "from urllib.parse import quote\n",
    "from ortoolpy import model_min, lpDot\n",
    "f = 'https://raw.githubusercontent.com/Biscuit01/food-cost-optimization/master/'\n",
    "dflu = pd.read_csv(f + quote('下限値・上限値.csv'))\n",
    "dffd = pd.read_csv(f + quote('単位あたりの価格・栄養成分.csv'))\n",
    "\n",
    "m = model_min(dfi=dffd)\n",
    "\n",
    "# ここに制約条件を記述してください\n",
    "\n",
    "m.solve(objs='価格（税込）')\n",
    "print('目的関数:', m.objective.value())\n",
    "dffd[['食品情報_食品名', 'Val']]"
   ]
  }
 ],
 "metadata": {
  "kernelspec": {
   "display_name": "Python 3",
   "language": "python",
   "name": "python3"
  },
  "language_info": {
   "codemirror_mode": {
    "name": "ipython",
    "version": 3
   },
   "file_extension": ".py",
   "mimetype": "text/x-python",
   "name": "python",
   "nbconvert_exporter": "python",
   "pygments_lexer": "ipython3",
   "version": "3.8.2"
  },
  "toc": {
   "nav_menu": {},
   "number_sections": true,
   "sideBar": true,
   "skip_h1_title": false,
   "toc_cell": false,
   "toc_position": {},
   "toc_section_display": "block",
   "toc_window_display": false
  }
 },
 "nbformat": 4,
 "nbformat_minor": 4
}
