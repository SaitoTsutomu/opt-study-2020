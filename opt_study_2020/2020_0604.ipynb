{
 "cells": [
  {
   "cell_type": "markdown",
   "metadata": {},
   "source": [
    "# 第2回最適化勉強会  2020/6/4\n",
    "### 今日の目標：Pythonでマス目の問題を解く\n",
    "- N Queen\n",
    "- 魔方陣\n",
    "- 日直\n",
    "\n",
    "## N Queen\n",
    "- 4×4のマスにQueenを4つ置く\n",
    "- Queenは互いに取れないようにする\n",
    "  - 1行に1つ\n",
    "  - 1列に1つ\n",
    "  - 斜めに1つ以下"
   ]
  },
  {
   "cell_type": "code",
   "execution_count": null,
   "metadata": {},
   "outputs": [],
   "source": [
    "import pandas as pd\n",
    "n = 4\n",
    "df = pd.DataFrame([(i, j, i + j, i - j + n - 1) for i in range(n)\n",
    "                   for j in range(n)], columns=list('YXRL'))\n",
    "df[:2]"
   ]
  },
  {
   "cell_type": "code",
   "execution_count": null,
   "metadata": {},
   "outputs": [],
   "source": [
    "import matplotlib.pyplot as plt\n",
    "from ipywidgets import interact, FloatSlider\n",
    "fs = FloatSlider(0, min=0, max=2 * n - 2, step=1, continuous_update=False)\n",
    "@interact(col=df.columns, val=fs)\n",
    "def show_df(col, val):\n",
    "    df2 = pd.concat([df, pd.Series([0] * (n * n), name='On')], 1)\n",
    "    df2.loc[df2[col] == val, 'On'] = 1\n",
    "    plt.xlabel('X')\n",
    "    plt.ylabel('Y')\n",
    "    plt.imshow(df2.On.values.reshape(n, n), 'gray')"
   ]
  },
  {
   "cell_type": "code",
   "execution_count": null,
   "metadata": {},
   "outputs": [],
   "source": [
    "# dfの行は、4×4の各マスに対応\n",
    "# 先頭行は左上、2行目はその右隣り\n",
    "# X Y R L を確認してみる\n",
    "df[:2]"
   ]
  },
  {
   "cell_type": "code",
   "execution_count": null,
   "metadata": {},
   "outputs": [],
   "source": [
    "# 変数列の追加\n",
    "# 変数が1なら、そのマスにQueenを置くことを意味する\n",
    "from ortoolpy import addbinvars\n",
    "addbinvars(df)\n",
    "df[:2]"
   ]
  },
  {
   "cell_type": "code",
   "execution_count": null,
   "metadata": {},
   "outputs": [],
   "source": [
    "# モデル作成＆ソルバー実行\n",
    "from ortoolpy import model_min, lpSum, addvals\n",
    "m = model_min()\n",
    "for col in 'YX':\n",
    "    for i in range(n):\n",
    "        m += lpSum(df[df[col] == i].Var) == 1\n",
    "for col in 'RL':\n",
    "    for i in range(2 * n - 1):\n",
    "        m += lpSum(df[df[col] == i].Var) <= 1\n",
    "%time m.solve()"
   ]
  },
  {
   "cell_type": "code",
   "execution_count": null,
   "metadata": {},
   "outputs": [],
   "source": [
    "# 結果の確認（白にQueenを置く）\n",
    "addvals(df)\n",
    "plt.imshow(df.Val.values.reshape(n, n), 'gray');"
   ]
  },
  {
   "cell_type": "markdown",
   "metadata": {},
   "source": [
    "### ポイント\n",
    "- DataFrameに変数の列 Var を追加する\n",
    "  - 0-1変数の場合は、`addbinvars(df)`とする\n",
    "- 目的関数なしの場合、便宜的に最小化モデルとする\n",
    "- DataFrameで必要な変数を絞り込む\n",
    "- 変数を含む式の合計は、`sum`ではなく`lpSum`を使う\n",
    "- solveで解を求める\n",
    "- モデルのstatusが1なら最適解が得られている\n",
    "- DataFrameに結果の列 Val を追加する"
   ]
  },
  {
   "cell_type": "code",
   "execution_count": null,
   "metadata": {},
   "outputs": [],
   "source": [
    "# 解空間の広さ（制約条件を無視した変数の取りうる組み合わせ）\n",
    "2**(n * n)"
   ]
  },
  {
   "cell_type": "markdown",
   "metadata": {},
   "source": [
    "### やってみよう\n",
    "`n = 10` にしてやり直してみよう"
   ]
  },
  {
   "cell_type": "markdown",
   "metadata": {},
   "source": [
    "---\n",
    "## 魔方陣\n",
    "- 3×3のマスに「1から9までの数字」を埋める\n",
    "- 各行、各列、斜めの和は、いずれも15"
   ]
  },
  {
   "cell_type": "code",
   "execution_count": null,
   "metadata": {},
   "outputs": [],
   "source": [
    "n = 3\n",
    "df = pd.DataFrame([(i, j, k + 1) for i in range(n) for j in range(n)\n",
    "                   for k in range(n * n)], columns=list('YXN'))\n",
    "addbinvars(df)\n",
    "df[:2]"
   ]
  },
  {
   "cell_type": "code",
   "execution_count": null,
   "metadata": {},
   "outputs": [],
   "source": [
    "# 1つのマスに1つの数字\n",
    "m = model_min()\n",
    "for _, gr in df.groupby(['X', 'Y']):\n",
    "    m += lpSum(gr.Var) == 1"
   ]
  },
  {
   "cell_type": "code",
   "execution_count": null,
   "metadata": {},
   "outputs": [],
   "source": [
    "gr"
   ]
  },
  {
   "cell_type": "code",
   "execution_count": null,
   "metadata": {},
   "outputs": [],
   "source": [
    "# 各数字は1つだけ\n",
    "for _, gr in df.groupby('N'):\n",
    "    m += lpSum(gr.Var) == 1"
   ]
  },
  {
   "cell_type": "code",
   "execution_count": null,
   "metadata": {},
   "outputs": [],
   "source": [
    "gr"
   ]
  },
  {
   "cell_type": "code",
   "execution_count": null,
   "metadata": {},
   "outputs": [],
   "source": [
    "# 和を15に\n",
    "# 内積（lpDot）を使おう\n",
    "from ortoolpy import lpDot\n",
    "for col in 'YX':  # 行と列\n",
    "    for i in range(n):\n",
    "        m += lpDot(df[df[col] == i].Var, df.N) == 15\n",
    "m += lpDot(df[df.X - df.Y == 0].Var, df.N) == 15  # 左斜め（＼）\n",
    "m += lpDot(df[df.X + df.Y == 2].Var, df.N) == 15  # 右斜め（／）\n",
    "%time m.solve()"
   ]
  },
  {
   "cell_type": "code",
   "execution_count": null,
   "metadata": {},
   "outputs": [],
   "source": [
    "addvals(df)\n",
    "df[df.Val > 0]"
   ]
  },
  {
   "cell_type": "code",
   "execution_count": null,
   "metadata": {},
   "outputs": [],
   "source": [
    "df[df.Val > 0].N.values.reshape(n, n)"
   ]
  },
  {
   "cell_type": "markdown",
   "metadata": {},
   "source": [
    "---\n",
    "## 日直\n",
    "- 月火水木金を、hirokiky, kameko, kenken, konie, nanaで分担する\n",
    "- kamekoさんは水曜ができない\n",
    "- kenkenさんは金曜にやりたい"
   ]
  },
  {
   "cell_type": "code",
   "execution_count": null,
   "metadata": {},
   "outputs": [],
   "source": [
    "week = '月火水木金'\n",
    "names = 'hirokiky kameko kenken konie nana'.split()\n",
    "df = pd.DataFrame([(w, n) for w in week for n in names],\n",
    "                  columns=['Week', 'Name'])\n",
    "addbinvars(df)\n",
    "df[:2]"
   ]
  },
  {
   "cell_type": "code",
   "execution_count": null,
   "metadata": {},
   "outputs": [],
   "source": [
    "# 各曜日に1人\n",
    "from ortoolpy import model_max\n",
    "m = model_max()  # 最大化問題\n",
    "for _, gr in df.groupby(['Week']):\n",
    "    m += lpSum(gr.Var) == 1"
   ]
  },
  {
   "cell_type": "code",
   "execution_count": null,
   "metadata": {},
   "outputs": [],
   "source": [
    "# 各人が1回\n",
    "for _, gr in df.groupby(['Name']):\n",
    "    m += lpSum(gr.Var) == 1"
   ]
  },
  {
   "cell_type": "code",
   "execution_count": null,
   "metadata": {},
   "outputs": [],
   "source": [
    "# kamekoさんは水曜ができない\n",
    "m += lpSum(df.query('Week == \"水\" & Name == \"kameko\"').Var) == 0"
   ]
  },
  {
   "cell_type": "code",
   "execution_count": null,
   "metadata": {},
   "outputs": [],
   "source": [
    "# kenkenさんは金曜にやりたい\n",
    "m += lpSum(df.query('Week == \"金\" & Name == \"kenken\"').Var)"
   ]
  },
  {
   "cell_type": "code",
   "execution_count": null,
   "metadata": {},
   "outputs": [],
   "source": [
    "m.solve()"
   ]
  },
  {
   "cell_type": "code",
   "execution_count": null,
   "metadata": {},
   "outputs": [],
   "source": [
    "addvals(df)\n",
    "df[df.Val > 0]"
   ]
  },
  {
   "cell_type": "markdown",
   "metadata": {},
   "source": [
    "終わり"
   ]
  }
 ],
 "metadata": {
  "kernelspec": {
   "display_name": "Python 3",
   "language": "python",
   "name": "python3"
  },
  "language_info": {
   "codemirror_mode": {
    "name": "ipython",
    "version": 3
   },
   "file_extension": ".py",
   "mimetype": "text/x-python",
   "name": "python",
   "nbconvert_exporter": "python",
   "pygments_lexer": "ipython3",
   "version": "3.8.2"
  },
  "toc": {
   "nav_menu": {},
   "number_sections": false,
   "sideBar": true,
   "skip_h1_title": false,
   "toc_cell": false,
   "toc_position": {
    "height": "550.4px",
    "left": "0px",
    "right": "1198.6px",
    "top": "111.6px",
    "width": "170.2px"
   },
   "toc_section_display": "block",
   "toc_window_display": true
  }
 },
 "nbformat": 4,
 "nbformat_minor": 4
}
